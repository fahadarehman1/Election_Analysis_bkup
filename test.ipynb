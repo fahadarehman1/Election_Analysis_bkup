{
 "cells": [
  {
   "cell_type": "code",
   "execution_count": 4,
   "source": [
    "import pandas as pd"
   ],
   "outputs": [],
   "metadata": {}
  },
  {
   "cell_type": "code",
   "execution_count": 5,
   "source": [
    "my_list = [\"one\", \"two\", \"three\"]\r\n",
    "for item in my_list:\r\n",
    "    print(item)"
   ],
   "outputs": [
    {
     "output_type": "stream",
     "name": "stdout",
     "text": [
      "one\n",
      "two\n",
      "three\n"
     ]
    }
   ],
   "metadata": {}
  },
  {
   "cell_type": "code",
   "execution_count": 8,
   "source": [
    "for index, item in enumerate(my_list):\r\n",
    "    print(index)\r\n",
    "    print(item)\r\n",
    "    print(\"\\n\")\r\n",
    "\r\n",
    "print(\"complete\")"
   ],
   "outputs": [
    {
     "output_type": "stream",
     "name": "stdout",
     "text": [
      "0\n",
      "one\n",
      "\n",
      "\n",
      "complete\n",
      "1\n",
      "two\n",
      "\n",
      "\n",
      "complete\n",
      "2\n",
      "three\n",
      "\n",
      "\n",
      "complete\n"
     ]
    }
   ],
   "metadata": {}
  },
  {
   "cell_type": "code",
   "execution_count": 9,
   "source": [
    "my_dict={\r\n",
    "    \"dog\": 12, \r\n",
    "    \"cat\": 3,\r\n",
    "    \"Horse\": 8\r\n",
    "}"
   ],
   "outputs": [],
   "metadata": {}
  },
  {
   "cell_type": "code",
   "execution_count": 17,
   "source": [
    "for key in my_dict:\r\n",
    "    print(key)\r\n",
    "    print(my_dict[key])\r\n",
    "    print(\"\\n\")"
   ],
   "outputs": [
    {
     "output_type": "stream",
     "name": "stdout",
     "text": [
      "dog\n",
      "12\n",
      "\n",
      "\n",
      "cat\n",
      "3\n",
      "\n",
      "\n",
      "Horse\n",
      "8\n",
      "\n",
      "\n"
     ]
    }
   ],
   "metadata": {}
  },
  {
   "cell_type": "code",
   "execution_count": 15,
   "source": [
    "for key,value in my_dict.items():\r\n",
    "    print(key)\r\n",
    "    print(value)\r\n",
    "    print(\"\\n\")"
   ],
   "outputs": [
    {
     "output_type": "stream",
     "name": "stdout",
     "text": [
      "dog\n",
      "12\n",
      "\n",
      "\n",
      "cat\n",
      "3\n",
      "\n",
      "\n",
      "Horse\n",
      "8\n",
      "\n",
      "\n"
     ]
    }
   ],
   "metadata": {}
  },
  {
   "cell_type": "code",
   "execution_count": 16,
   "source": [
    "my_dict.items()"
   ],
   "outputs": [
    {
     "output_type": "execute_result",
     "data": {
      "text/plain": [
       "dict_items([('dog', 12), ('cat', 3), ('Horse', 8)])"
      ]
     },
     "metadata": {},
     "execution_count": 16
    }
   ],
   "metadata": {}
  },
  {
   "cell_type": "code",
   "execution_count": null,
   "source": [],
   "outputs": [],
   "metadata": {}
  }
 ],
 "metadata": {
  "orig_nbformat": 4,
  "language_info": {
   "name": "python",
   "version": "3.7.6",
   "mimetype": "text/x-python",
   "codemirror_mode": {
    "name": "ipython",
    "version": 3
   },
   "pygments_lexer": "ipython3",
   "nbconvert_exporter": "python",
   "file_extension": ".py"
  },
  "kernelspec": {
   "name": "python3",
   "display_name": "Python 3.7.6 64-bit"
  },
  "interpreter": {
   "hash": "5cfa18efacd3998cfa3f151c8f2add663a7cd02660f8408b03348355cf04b48e"
  }
 },
 "nbformat": 4,
 "nbformat_minor": 2
}